{
 "cells": [
  {
   "cell_type": "markdown",
   "id": "e555eab9",
   "metadata": {},
   "source": [
    "In US_airports.csv you have a network of the directed network of flights between US airports in 2010. Each edge represents a connection from one airport to another, and the weight of an edge shows the number of flights on that connection in the given direction, in 2010. "
   ]
  },
  {
   "cell_type": "markdown",
   "id": "abc6b6ca",
   "metadata": {},
   "source": [
    "**1. Load the network as directed network and disregard the number of flights. Find all airports that are reachable from Airport 1 with 2 or fewer connecting flights. How many are they?**   "
   ]
  },
  {
   "cell_type": "markdown",
   "id": "388e3d3b",
   "metadata": {},
   "source": [
    "**2. Is airport 1 reacheable from all of these airports?**"
   ]
  },
  {
   "cell_type": "markdown",
   "id": "37c21a65",
   "metadata": {},
   "source": [
    "**3. Find the airports from which we need more connections to reach Airport 1, than the number of connections that we need to reach that airport from Airport 1.** "
   ]
  },
  {
   "cell_type": "markdown",
   "id": "a0943216",
   "metadata": {},
   "source": [
    "**4. The number of flights between two airports shows their connections. The higher the number of connections, the more connected to airports are. Assume that we are living in very unpredictable times. The flights get canceled quickly. And assume that we can easily change the flights between different airline companies. This means that the connections with the most frequent flights are the least risky. Airport 1 is reachable from Airport 238 through 3 connecting flights. Is this route also the least risky one? Please explain your answer.**"
   ]
  },
  {
   "cell_type": "markdown",
   "id": "610600f7",
   "metadata": {},
   "source": [
    "**5. Assume that the number of connections between airports $i$ and $j$ has to be symmetric. We will achieve this by symmetrising the airport network by selecting the larger weight (number of flights) to be the true number of flights from $i$ to $j$ and from $j$ to $i$. Repeat the exercise from assignment 4. What is the difference?**   "
   ]
  },
  {
   "cell_type": "markdown",
   "id": "82f3a684",
   "metadata": {},
   "source": [
    "**6. We have an intelligent agent whose task is to sort and classify tomatos. Write PEAS for this agent.**  "
   ]
  },
  {
   "cell_type": "code",
   "execution_count": null,
   "id": "6190f533",
   "metadata": {},
   "outputs": [],
   "source": []
  }
 ],
 "metadata": {
  "kernelspec": {
   "display_name": "Python 3 (ipykernel)",
   "language": "python",
   "name": "python3"
  },
  "language_info": {
   "codemirror_mode": {
    "name": "ipython",
    "version": 3
   },
   "file_extension": ".py",
   "mimetype": "text/x-python",
   "name": "python",
   "nbconvert_exporter": "python",
   "pygments_lexer": "ipython3",
   "version": "3.10.9"
  }
 },
 "nbformat": 4,
 "nbformat_minor": 5
}
